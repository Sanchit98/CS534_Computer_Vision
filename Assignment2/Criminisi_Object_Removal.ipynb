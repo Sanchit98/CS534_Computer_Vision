{
  "nbformat": 4,
  "nbformat_minor": 0,
  "metadata": {
    "colab": {
      "name": "Criminisi_Object_Removal.ipynb",
      "provenance": [],
      "collapsed_sections": []
    },
    "kernelspec": {
      "name": "python3",
      "display_name": "Python 3"
    },
    "language_info": {
      "name": "python"
    }
  },
  "cells": [
    {
      "cell_type": "code",
      "execution_count": null,
      "metadata": {
        "id": "2NmDnsZpLSSm"
      },
      "outputs": [],
      "source": [
        "import numpy as np\n",
        "from numpy import pi, exp, sqrt\n",
        "import cv2\n",
        "from PIL import Image as image\n",
        "import matplotlib.pyplot as plt\n",
        "from time import time\n",
        "import os\n",
        "\n",
        "global WindowSize\n",
        "WindowSize=5\n",
        "global figno\n",
        "\n",
        "global OmegaMask\n",
        "global Confidence\n",
        "    \n",
        "fname=\"test_im3.jpg\"\n",
        "Image=cv2.imread(fname)\n",
        "\n",
        "OmegaMask=np.zeros((Image.shape[0],Image.shape[1]),dtype=np.uint8)\n",
        "for x in range(Image.shape[0]):\n",
        "    for y in range(Image.shape[1]):\n",
        "        if Image[x,y,0]<50 and Image[x,y,1]<50 and Image[x,y,2]>200:\n",
        "            OmegaMask[x,y]=1\n",
        "kernel=np.ones((5,5),dtype=np.uint8)\n",
        "OmegaMask=cv2.morphologyEx(OmegaMask,cv2.MORPH_CLOSE,kernel)\n",
        "Image=cv2.cvtColor(Image,cv2.COLOR_BGR2GRAY)\n",
        "SampleImage=Image.copy()\n",
        "\n",
        "Confidence=np.ones(Image.shape,dtype=np.uint8)\n",
        "Confidence=Confidence - OmegaMask*1\n",
        "Icopy=Image.copy()\n",
        "Image=grow_image(SampleImage,Image)\n",
        "print(np.sum(Image-Icopy))\n",
        "plt.imshow(Image,\"gray\")\n",
        "cv2.imwrite(fname[:-4]+\"-out.jpg\",Image)"
      ]
    },
    {
      "cell_type": "code",
      "source": [
        "def get_window(pixel,img,wsize=WindowSize):\n",
        "    HalfW=int(wsize/2)\n",
        "    x1=max([pixel[0]-HalfW,0])\n",
        "    x2=min([pixel[0]+HalfW+1,img.shape[0]])\n",
        "    y1=max([pixel[1]-HalfW,0])\n",
        "    y2=min([pixel[1]+HalfW+1,img.shape[1]])\n",
        "    return img[x1:x2,y1:y2]\n",
        "\n",
        "def FindMatches(Template,SampleImage,ValidMask,pixel):\n",
        "    SSD=np.zeros(SampleImage.shape)\n",
        "    HalfW=int(WindowSize/2)\n",
        "    indices=np.transpose(np.nonzero(1-OmegaMask))\n",
        "    th=50\n",
        "    while True:\n",
        "        print(th)\n",
        "        indices=[tuple(index) for index in indices if np.sum(get_window(index,OmegaMask))==0 and abs(index[0]-pixel[0])<th and abs(index[1]-pixel[1])<th]\n",
        "        minimum=99999999\n",
        "        for i1,i2 in indices:\n",
        "            try:\n",
        "                index=tuple([i1,i2])\n",
        "                Sample=get_window(index,SampleImage)\n",
        "                SampleMask=get_window(index,1-OmegaMask)\n",
        "                if np.sum(ValidMask*SampleMask)!=np.sum(ValidMask):\n",
        "                    continue\n",
        "                dist=np.sum(((Template-Sample)**2)*ValidMask*SampleMask)\n",
        "                SSD[index]=dist\n",
        "                if dist<minimum:\n",
        "                    minimum=dist\n",
        "                    final=index\n",
        "            except: continue\n",
        "        try:\n",
        "            return final\n",
        "        except:\n",
        "            th+=50\n",
        "    \n",
        "\n"
      ],
      "metadata": {
        "id": "SP-6zzCOLf7_"
      },
      "execution_count": null,
      "outputs": []
    },
    {
      "cell_type": "code",
      "source": [
        "def grow_image(SampleImage,Image):\n",
        "    global Confidence\n",
        "    global OmegaMask\n",
        "    HalfW=int(WindowSize/2)\n",
        "    while np.sum(OmegaMask):\n",
        "    #for _ in range(50):\n",
        "        #try:\n",
        "            pixel=GetUnfilledNeighbors()\n",
        "            print(pixel)\n",
        "            pixel=tuple(pixel)\n",
        "            Template=get_window(pixel,Image)\n",
        "            ValidMask=get_window(pixel,1-OmegaMask)\n",
        "            BestMatch=FindMatches(Template,SampleImage,ValidMask,pixel)\n",
        "            print(BestMatch, Image[pixel],Image[BestMatch], OmegaMask[BestMatch])\n",
        "            Image[pixel[0]-HalfW:pixel[0]+HalfW+1,pixel[1]-HalfW:pixel[1]+HalfW+1]=get_window(BestMatch,SampleImage)*get_window(pixel,OmegaMask)+get_window(pixel,1-OmegaMask)*Image[pixel[0]-HalfW:pixel[0]+HalfW+1,pixel[1]-HalfW:pixel[1]+HalfW+1]\n",
        "            \"\"\"\n",
        "            plt.figure(11)\n",
        "            plt.imshow(Image,\"gray\")\n",
        "            plt.figure(12)\n",
        "            plt.imshow(OmegaMask,\"gray\")\n",
        "            plt.figure(13)\n",
        "            plt.imshow(Image,\"gray\")\n",
        "            \"\"\"\n",
        "            OldOmegaMask=OmegaMask.copy()\n",
        "            OmegaMask[pixel[0]-HalfW:pixel[0]+HalfW+1,pixel[1]-HalfW:pixel[1]+HalfW+1]=0\n",
        "            Confidence=Confidence+(OldOmegaMask-OmegaMask)*Confidence[pixel]\n",
        "            print(np.sum(OmegaMask))\n",
        "    return Image\n"
      ],
      "metadata": {
        "id": "02oV2ZGaLju5"
      },
      "execution_count": null,
      "outputs": []
    },
    {
      "cell_type": "code",
      "source": [
        "def GetUnfilledNeighbors():\n",
        "    global Confidence\n",
        "    alpha=255\n",
        "    Sobel_x=[[-1,0,1],[-2,0,2],[-1,0,1]]\n",
        "    Sobel_y=[[-1,2,-1],[0,0,0],[1,2,1]]    \n",
        "    kernel=np.ones((3,3),dtype=np.uint8)\n",
        "    dilated=cv2.dilate(1-OmegaMask,kernel)\n",
        "    diff=dilated-(1-OmegaMask)\n",
        "    boundary=np.transpose(np.nonzero(diff))\n",
        "    maximum=0\n",
        "    for p in boundary:\n",
        "        im_window=get_window(p,Image)\n",
        "        C=np.sum(get_window(p,Confidence))\n",
        "        mag=im_window.shape[0]*im_window.shape[1]\n",
        "        C_term=C/mag\n",
        "        Confidence[tuple(p)]=C_term\n",
        "        gradient_x=np.sum(get_window(p,Image,3)*Sobel_x)\n",
        "        gradient_y=np.sum(get_window(p,Image,3)*Sobel_y)\n",
        "        gradient=[gradient_x,gradient_y]\n",
        "        normal_x=np.sum(get_window(p,diff,3)*Sobel_x)\n",
        "        normal_y=np.sum(get_window(p,diff,3)*Sobel_y)\n",
        "        normal=[normal_x,normal_y]\n",
        "        unit_normal=normal/np.linalg.norm(normal)\n",
        "        D_term=abs(np.dot(unit_normal,gradient))/alpha\n",
        "        P=D_term*C_term\n",
        "        if P>=maximum:\n",
        "            maximum=P\n",
        "            final=p\n",
        "    return final"
      ],
      "metadata": {
        "id": "RGqib1byLmKX"
      },
      "execution_count": null,
      "outputs": []
    }
  ]
}